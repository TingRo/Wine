{
 "cells": [
  {
   "cell_type": "code",
   "execution_count": 1,
   "metadata": {
    "colab": {
     "base_uri": "https://localhost:8080/"
    },
    "id": "7a-1vwaCOQ_l",
    "outputId": "010929b5-0af4-4f65-b807-ff85a0bdb8c9"
   },
   "outputs": [
    {
     "name": "stdout",
     "output_type": "stream",
     "text": [
      "(178, 14)\n",
      "     class  Alcohol  Malic acid  ...   Hue  OD280/OD315 of diluted wines  Proline\n",
      "0        1    14.23        1.71  ...  1.04                          3.92     1065\n",
      "1        1    13.20        1.78  ...  1.05                          3.40     1050\n",
      "2        1    13.16        2.36  ...  1.03                          3.17     1185\n",
      "3        1    14.37        1.95  ...  0.86                          3.45     1480\n",
      "4        1    13.24        2.59  ...  1.04                          2.93      735\n",
      "..     ...      ...         ...  ...   ...                           ...      ...\n",
      "173      3    13.71        5.65  ...  0.64                          1.74      740\n",
      "174      3    13.40        3.91  ...  0.70                          1.56      750\n",
      "175      3    13.27        4.28  ...  0.59                          1.56      835\n",
      "176      3    13.17        2.59  ...  0.60                          1.62      840\n",
      "177      3    14.13        4.10  ...  0.61                          1.60      560\n",
      "\n",
      "[178 rows x 14 columns]\n"
     ]
    }
   ],
   "source": [
    "# 讀入資料\n",
    "import numpy as np\n",
    "import pandas as pd\n",
    "\n",
    "columns = ['class', 'Alcohol', 'Malic acid', 'Ash', 'Alcalinity of ash', 'Magnesium', 'Total phenols', 'Flavanoids', 'Nonflavanoid phenols',\n",
    "           'Proanthocyanins', 'Color intensity', 'Hue', 'OD280/OD315 of diluted wines', 'Proline']\n",
    "\n",
    "wine_file = 'https://raw.githubusercontent.com/TingRo/Wine/main/wine.data'\n",
    "wine_data = pd.read_csv(wine_file, header = None, sep = ',', names = columns)\n",
    "\n",
    "print(wine_data.shape)\n",
    "print(wine_data)"
   ]
  },
  {
   "cell_type": "code",
   "execution_count": 2,
   "metadata": {
    "id": "9GjnfPopaXHY"
   },
   "outputs": [],
   "source": [
    "import pandas as pd\n",
    "pd.set_option(\"display.max_colwidth\",1000)\n",
    "pd.set_option('display.width',1000)\n",
    "\n",
    "#顯示所有列\n",
    "pd.set_option('display.max_columns', None)\n",
    "#顯示所有行\n",
    "pd.set_option('display.max_rows', None)"
   ]
  },
  {
   "cell_type": "code",
   "execution_count": 3,
   "metadata": {
    "colab": {
     "base_uri": "https://localhost:8080/"
    },
    "id": "H3YI6aDbX7el",
    "outputId": "50bc4997-7e3c-4499-8e09-5eac2ea364d0"
   },
   "outputs": [
    {
     "name": "stdout",
     "output_type": "stream",
     "text": [
      "(158, 14)\n",
      "(20, 14)\n"
     ]
    }
   ],
   "source": [
    "# 分割成158筆訓練資料、20筆測試資料\n",
    "from sklearn.model_selection import train_test_split\n",
    "\n",
    "train_data, test_data = train_test_split(wine_data, random_state=246, train_size=0.89)\n",
    "\n",
    "print(train_data.shape)\n",
    "print(test_data.shape)"
   ]
  },
  {
   "cell_type": "code",
   "execution_count": 4,
   "metadata": {
    "colab": {
     "base_uri": "https://localhost:8080/"
    },
    "id": "_2JjB_O-Zby8",
    "outputId": "7a846f7d-3919-4bf5-9a11-41a66594f8d2"
   },
   "outputs": [
    {
     "name": "stdout",
     "output_type": "stream",
     "text": [
      "     class  Alcohol  Malic acid   Ash  Alcalinity of ash  Magnesium  Total phenols  Flavanoids  Nonflavanoid phenols  Proanthocyanins  Color intensity   Hue  OD280/OD315 of diluted wines  Proline\n",
      "131      3    12.88        2.99  2.40               20.0        104           1.30        1.22                  0.24             0.83             5.40  0.74                          1.42      530\n",
      "163      3    12.96        3.45  2.35               18.5        106           1.39        0.70                  0.40             0.94             5.28  0.68                          1.75      675\n",
      "93       2    12.29        2.83  2.22               18.0         88           2.45        2.25                  0.25             1.99             2.15  1.15                          3.30      290\n",
      "6        1    14.39        1.87  2.45               14.6         96           2.50        2.52                  0.30             1.98             5.25  1.02                          3.58     1290\n",
      "173      3    13.71        5.65  2.45               20.5         95           1.68        0.61                  0.52             1.06             7.70  0.64                          1.74      740\n",
      "60       2    12.33        1.10  2.28               16.0        101           2.05        1.09                  0.63             0.41             3.27  1.25                          1.67      680\n",
      "15       1    13.63        1.81  2.70               17.2        112           2.85        2.91                  0.30             1.46             7.30  1.28                          2.88     1310\n",
      "134      3    12.51        1.24  2.25               17.5         85           2.00        0.58                  0.60             1.25             5.45  0.75                          1.51      650\n",
      "107      2    12.72        1.75  2.28               22.5         84           1.38        1.76                  0.48             1.63             3.30  0.88                          2.42      488\n",
      "45       1    14.21        4.04  2.44               18.9        111           2.85        2.65                  0.30             1.25             5.24  0.87                          3.33     1080\n",
      "114      2    12.08        1.39  2.50               22.5         84           2.56        2.29                  0.43             1.04             2.90  0.93                          3.19      385\n",
      "66       2    13.11        1.01  1.70               15.0         78           2.98        3.18                  0.26             2.28             5.30  1.12                          3.18      502\n",
      "4        1    13.24        2.59  2.87               21.0        118           2.80        2.69                  0.39             1.82             4.32  1.04                          2.93      735\n",
      "105      2    12.42        2.55  2.27               22.0         90           1.68        1.84                  0.66             1.42             2.70  0.86                          3.30      315\n",
      "33       1    13.76        1.53  2.70               19.5        132           2.95        2.74                  0.50             1.35             5.40  1.25                          3.00     1235\n",
      "56       1    14.22        1.70  2.30               16.3        118           3.20        3.00                  0.26             2.03             6.38  0.94                          3.31      970\n",
      "177      3    14.13        4.10  2.74               24.5         96           2.05        0.76                  0.56             1.35             9.20  0.61                          1.60      560\n",
      "156      3    13.84        4.12  2.38               19.5         89           1.80        0.83                  0.48             1.56             9.01  0.57                          1.64      480\n",
      "111      2    12.52        2.43  2.17               21.0         88           2.55        2.27                  0.26             1.22             2.00  0.90                          2.78      325\n",
      "47       1    13.90        1.68  2.12               16.0        101           3.10        3.39                  0.21             2.14             6.10  0.91                          3.33      985\n"
     ]
    }
   ],
   "source": [
    "print(test_data)"
   ]
  },
  {
   "cell_type": "code",
   "execution_count": 5,
   "metadata": {
    "id": "W9q2lVI_d9Mt"
   },
   "outputs": [],
   "source": [
    "# 處理資料\n",
    "# attribute :  1-13\n",
    "idx_data = [i for i in range(wine_data.shape[1]) if i!=0]\n",
    "\n",
    "# attribute : 0 class\n",
    "idx_label = [0]\n",
    "\n",
    "train_data = train_data.values\n",
    "test_data = test_data.values"
   ]
  },
  {
   "cell_type": "code",
   "execution_count": 6,
   "metadata": {
    "colab": {
     "base_uri": "https://localhost:8080/"
    },
    "id": "A2HyacavQIPE",
    "outputId": "50ec0b4f-d8fa-42c9-83d1-2d7125159431"
   },
   "outputs": [
    {
     "name": "stdout",
     "output_type": "stream",
     "text": [
      "(158, 13)\n"
     ]
    }
   ],
   "source": [
    "# 處理資料-訓練資料\n",
    "train_label = train_data[:, idx_label]\n",
    "train_data = train_data[:, idx_data]\n",
    "\n",
    "#print(train_data)\n",
    "print(train_data.shape)"
   ]
  },
  {
   "cell_type": "code",
   "execution_count": 7,
   "metadata": {
    "colab": {
     "base_uri": "https://localhost:8080/"
    },
    "id": "P9luSLgQdktS",
    "outputId": "b1070d09-d4b1-46aa-ecba-7186a87c4e53"
   },
   "outputs": [
    {
     "name": "stdout",
     "output_type": "stream",
     "text": [
      "(20, 13)\n"
     ]
    }
   ],
   "source": [
    "# 處理資料-測試資料\n",
    "test_label = test_data[:, idx_label]\n",
    "test_data = test_data[:, idx_data]\n",
    "\n",
    "print(test_data.shape)"
   ]
  },
  {
   "cell_type": "code",
   "execution_count": 8,
   "metadata": {
    "colab": {
     "base_uri": "https://localhost:8080/"
    },
    "id": "cm4T0RFLeTzA",
    "outputId": "18a33b4e-5904-482d-948e-f19e5e8e958e"
   },
   "outputs": [
    {
     "name": "stdout",
     "output_type": "stream",
     "text": [
      "(158, 1)\n",
      "(20, 1)\n"
     ]
    }
   ],
   "source": [
    "print(train_label.shape)\n",
    "print(test_label.shape)"
   ]
  },
  {
   "cell_type": "code",
   "execution_count": 9,
   "metadata": {
    "colab": {
     "base_uri": "https://localhost:8080/"
    },
    "id": "_COyc9hSs9SQ",
    "outputId": "a66815cc-e088-4046-8902-c02b9a544b0f"
   },
   "outputs": [
    {
     "name": "stderr",
     "output_type": "stream",
     "text": [
      "/usr/local/lib/python3.7/dist-packages/sklearn/utils/validation.py:760: DataConversionWarning: A column-vector y was passed when a 1d array was expected. Please change the shape of y to (n_samples, ), for example using ravel().\n",
      "  y = column_or_1d(y, warn=True)\n"
     ]
    },
    {
     "data": {
      "text/plain": [
       "AdaBoostClassifier(algorithm='SAMME.R',\n",
       "                   base_estimator=DecisionTreeClassifier(ccp_alpha=0.0,\n",
       "                                                         class_weight=None,\n",
       "                                                         criterion='gini',\n",
       "                                                         max_depth=None,\n",
       "                                                         max_features=None,\n",
       "                                                         max_leaf_nodes=None,\n",
       "                                                         min_impurity_decrease=0.0,\n",
       "                                                         min_impurity_split=None,\n",
       "                                                         min_samples_leaf=1,\n",
       "                                                         min_samples_split=2,\n",
       "                                                         min_weight_fraction_leaf=0.0,\n",
       "                                                         presort='deprecated',\n",
       "                                                         random_state=9876,\n",
       "                                                         splitter='best'),\n",
       "                   learning_rate=1, n_estimators=500, random_state=None)"
      ]
     },
     "execution_count": 9,
     "metadata": {
      "tags": []
     },
     "output_type": "execute_result"
    }
   ],
   "source": [
    "# 定義model\n",
    "from sklearn.tree import DecisionTreeClassifier\n",
    "from sklearn.ensemble import AdaBoostClassifier\n",
    "\n",
    "tree = DecisionTreeClassifier(criterion = 'gini',random_state = 9876)\n",
    "ada = AdaBoostClassifier(base_estimator = tree, n_estimators = 500, learning_rate = 1)\n",
    "\n",
    "ada.fit(train_data, train_label)"
   ]
  },
  {
   "cell_type": "code",
   "execution_count": 10,
   "metadata": {
    "colab": {
     "base_uri": "https://localhost:8080/"
    },
    "id": "6zsKa0awlP7x",
    "outputId": "a37c5053-7820-4ca4-cd66-24a254280d89"
   },
   "outputs": [
    {
     "name": "stdout",
     "output_type": "stream",
     "text": [
      "[3. 3. 2. 1. 3. 2. 1. 3. 2. 1. 2. 2. 1. 2. 1. 1. 3. 3. 2. 1.]\n"
     ]
    }
   ],
   "source": [
    "print(ada.predict(test_data))"
   ]
  },
  {
   "cell_type": "code",
   "execution_count": 11,
   "metadata": {
    "colab": {
     "base_uri": "https://localhost:8080/"
    },
    "id": "C5gTW2JrlsO3",
    "outputId": "1b809b17-0c44-4bd7-839b-e11b8125d940"
   },
   "outputs": [
    {
     "name": "stdout",
     "output_type": "stream",
     "text": [
      "1.0\n"
     ]
    }
   ],
   "source": [
    "print(ada.score(test_data, test_label))"
   ]
  }
 ],
 "metadata": {
  "accelerator": "GPU",
  "colab": {
   "collapsed_sections": [],
   "name": "2021-ml-wine-adaboost.ipynb",
   "provenance": [],
   "toc_visible": true
  },
  "kernelspec": {
   "display_name": "Python 3",
   "language": "python",
   "name": "python3"
  },
  "language_info": {
   "codemirror_mode": {
    "name": "ipython",
    "version": 3
   },
   "file_extension": ".py",
   "mimetype": "text/x-python",
   "name": "python",
   "nbconvert_exporter": "python",
   "pygments_lexer": "ipython3",
   "version": "3.9.5"
  }
 },
 "nbformat": 4,
 "nbformat_minor": 1
}
