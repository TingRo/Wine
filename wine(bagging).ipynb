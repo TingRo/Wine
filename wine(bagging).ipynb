{
 "cells": [
  {
   "cell_type": "code",
   "execution_count": null,
   "metadata": {
    "colab": {
     "base_uri": "https://localhost:8080/"
    },
    "id": "7a-1vwaCOQ_l",
    "outputId": "cc92464c-0434-4c72-d72b-66a12f2b18f1"
   },
   "outputs": [
    {
     "name": "stdout",
     "output_type": "stream",
     "text": [
      "(178, 14)\n",
      "     class  Alcohol  Malic acid  ...   Hue  OD280/OD315 of diluted wines  Proline\n",
      "0        1    14.23        1.71  ...  1.04                          3.92     1065\n",
      "1        1    13.20        1.78  ...  1.05                          3.40     1050\n",
      "2        1    13.16        2.36  ...  1.03                          3.17     1185\n",
      "3        1    14.37        1.95  ...  0.86                          3.45     1480\n",
      "4        1    13.24        2.59  ...  1.04                          2.93      735\n",
      "..     ...      ...         ...  ...   ...                           ...      ...\n",
      "173      3    13.71        5.65  ...  0.64                          1.74      740\n",
      "174      3    13.40        3.91  ...  0.70                          1.56      750\n",
      "175      3    13.27        4.28  ...  0.59                          1.56      835\n",
      "176      3    13.17        2.59  ...  0.60                          1.62      840\n",
      "177      3    14.13        4.10  ...  0.61                          1.60      560\n",
      "\n",
      "[178 rows x 14 columns]\n"
     ]
    }
   ],
   "source": [
    "# 讀入資料\n",
    "import numpy as np\n",
    "import pandas as pd\n",
    "\n",
    "columns = ['class', 'Alcohol', 'Malic acid', 'Ash', 'Alcalinity of ash', 'Magnesium', 'Total phenols', 'Flavanoids', 'Nonflavanoid phenols',\n",
    "           'Proanthocyanins', 'Color intensity', 'Hue', 'OD280/OD315 of diluted wines', 'Proline']\n",
    "\n",
    "wine_file = 'https://raw.githubusercontent.com/TingRo/Wine/main/wine.data'\n",
    "wine_data = pd.read_csv(wine_file, header = None, sep = ',', names = columns)\n",
    "\n",
    "print(wine_data.shape)\n",
    "print(wine_data)"
   ]
  },
  {
   "cell_type": "code",
   "execution_count": null,
   "metadata": {
    "id": "9GjnfPopaXHY"
   },
   "outputs": [],
   "source": [
    "import pandas as pd\n",
    "pd.set_option(\"display.max_colwidth\",1000)\n",
    "pd.set_option('display.width',1000)\n",
    "\n",
    "#顯示所有列\n",
    "pd.set_option('display.max_columns', None)\n",
    "#顯示所有行\n",
    "pd.set_option('display.max_rows', None)"
   ]
  },
  {
   "cell_type": "code",
   "execution_count": null,
   "metadata": {
    "colab": {
     "base_uri": "https://localhost:8080/"
    },
    "id": "H3YI6aDbX7el",
    "outputId": "c39d0f84-89c5-4827-d56a-cee324698b51"
   },
   "outputs": [
    {
     "name": "stdout",
     "output_type": "stream",
     "text": [
      "(158, 14)\n",
      "(20, 14)\n"
     ]
    }
   ],
   "source": [
    "# 分割成158筆訓練資料、20筆測試資料\n",
    "from sklearn.model_selection import train_test_split\n",
    "\n",
    "train_data, test_data = train_test_split(wine_data, random_state=999, train_size=0.89)\n",
    "\n",
    "print(train_data.shape)\n",
    "print(test_data.shape)"
   ]
  },
  {
   "cell_type": "code",
   "execution_count": null,
   "metadata": {
    "colab": {
     "base_uri": "https://localhost:8080/"
    },
    "id": "_2JjB_O-Zby8",
    "outputId": "f052be81-f895-479f-9b96-bba5478b044d"
   },
   "outputs": [
    {
     "name": "stdout",
     "output_type": "stream",
     "text": [
      "     class  Alcohol  Malic acid   Ash  Alcalinity of ash  Magnesium  Total phenols  Flavanoids  Nonflavanoid phenols  Proanthocyanins  Color intensity   Hue  OD280/OD315 of diluted wines  Proline\n",
      "34       1    13.51        1.80  2.65               19.0        110           2.35        2.53                  0.29             1.54             4.20  1.10                          2.87     1095\n",
      "90       2    12.08        1.83  2.32               18.5         81           1.60        1.50                  0.52             1.64             2.40  1.08                          2.27      480\n",
      "55       1    13.56        1.73  2.46               20.5        116           2.96        2.78                  0.20             2.45             6.25  0.98                          3.03     1120\n",
      "95       2    12.47        1.52  2.20               19.0        162           2.50        2.27                  0.32             3.28             2.60  1.16                          2.63      937\n",
      "170      3    12.20        3.03  2.32               19.0         96           1.25        0.49                  0.40             0.73             5.50  0.66                          1.83      510\n",
      "112      2    11.76        2.68  2.92               20.0        103           1.75        2.03                  0.60             1.05             3.80  1.23                          2.50      607\n",
      "7        1    14.06        2.15  2.61               17.6        121           2.60        2.51                  0.31             1.25             5.05  1.06                          3.58     1295\n",
      "86       2    12.16        1.61  2.31               22.8         90           1.78        1.69                  0.43             1.56             2.45  1.33                          2.26      495\n",
      "36       1    13.28        1.64  2.84               15.5        110           2.60        2.68                  0.34             1.36             4.60  1.09                          2.78      880\n",
      "144      3    12.25        3.88  2.20               18.5        112           1.38        0.78                  0.29             1.14             8.21  0.65                          2.00      855\n",
      "96       2    11.81        2.12  2.74               21.5        134           1.60        0.99                  0.14             1.56             2.50  0.95                          2.26      625\n",
      "111      2    12.52        2.43  2.17               21.0         88           2.55        2.27                  0.26             1.22             2.00  0.90                          2.78      325\n",
      "157      3    12.45        3.03  2.64               27.0         97           1.90        0.58                  0.63             1.14             7.50  0.67                          1.73      880\n",
      "164      3    13.78        2.76  2.30               22.0         90           1.35        0.68                  0.41             1.03             9.58  0.70                          1.68      615\n",
      "175      3    13.27        4.28  2.26               20.0        120           1.59        0.69                  0.43             1.35            10.20  0.59                          1.56      835\n",
      "109      2    11.61        1.35  2.70               20.0         94           2.74        2.92                  0.29             2.49             2.65  0.96                          3.26      680\n",
      "80       2    12.00        0.92  2.00               19.0         86           2.42        2.26                  0.30             1.43             2.50  1.38                          3.12      278\n",
      "140      3    12.93        2.81  2.70               21.0         96           1.54        0.50                  0.53             0.75             4.60  0.77                          2.31      600\n",
      "53       1    13.77        1.90  2.68               17.1        115           3.00        2.79                  0.39             1.68             6.30  1.13                          2.93     1375\n",
      "106      2    12.25        1.73  2.12               19.0         80           1.65        2.03                  0.37             1.63             3.40  1.00                          3.17      510\n"
     ]
    }
   ],
   "source": [
    "print(test_data)"
   ]
  },
  {
   "cell_type": "code",
   "execution_count": null,
   "metadata": {
    "id": "W9q2lVI_d9Mt"
   },
   "outputs": [],
   "source": [
    "# 處理資料\n",
    "# attribute :  1-13\n",
    "idx_data = [i for i in range(wine_data.shape[1]) if i!=0]\n",
    "\n",
    "# attribute : 0 class\n",
    "idx_label = [0]\n",
    "\n",
    "train_data = train_data.values\n",
    "test_data = test_data.values"
   ]
  },
  {
   "cell_type": "code",
   "execution_count": null,
   "metadata": {
    "colab": {
     "base_uri": "https://localhost:8080/"
    },
    "id": "A2HyacavQIPE",
    "outputId": "612f5462-6502-48e9-d26d-0ad58eaae2d8"
   },
   "outputs": [
    {
     "name": "stdout",
     "output_type": "stream",
     "text": [
      "(158, 13)\n"
     ]
    }
   ],
   "source": [
    "# 處理資料-訓練資料\n",
    "train_label = train_data[:, idx_label]\n",
    "train_data = train_data[:, idx_data]\n",
    "\n",
    "#print(train_data)\n",
    "print(train_data.shape)"
   ]
  },
  {
   "cell_type": "code",
   "execution_count": null,
   "metadata": {
    "colab": {
     "base_uri": "https://localhost:8080/"
    },
    "id": "P9luSLgQdktS",
    "outputId": "43e52a8a-66a2-4674-bf3c-f29ea2c312ac"
   },
   "outputs": [
    {
     "name": "stdout",
     "output_type": "stream",
     "text": [
      "(20, 13)\n"
     ]
    }
   ],
   "source": [
    "# 處理資料-測試資料\n",
    "test_label = test_data[:, idx_label]\n",
    "test_data = test_data[:, idx_data]\n",
    "\n",
    "print(test_data.shape)"
   ]
  },
  {
   "cell_type": "code",
   "execution_count": null,
   "metadata": {
    "colab": {
     "base_uri": "https://localhost:8080/"
    },
    "id": "cm4T0RFLeTzA",
    "outputId": "f34fc908-3048-4a05-f110-458cd297488a"
   },
   "outputs": [
    {
     "name": "stdout",
     "output_type": "stream",
     "text": [
      "(158, 1)\n",
      "(20, 1)\n"
     ]
    }
   ],
   "source": [
    "print(train_label.shape)\n",
    "print(test_label.shape)"
   ]
  },
  {
   "cell_type": "code",
   "execution_count": null,
   "metadata": {
    "colab": {
     "base_uri": "https://localhost:8080/"
    },
    "id": "BZflvT9VfGFb",
    "outputId": "1451e58f-070e-4030-92cb-0ad59f640cef"
   },
   "outputs": [
    {
     "name": "stderr",
     "output_type": "stream",
     "text": [
      "/usr/local/lib/python3.7/dist-packages/sklearn/ensemble/_bagging.py:645: DataConversionWarning: A column-vector y was passed when a 1d array was expected. Please change the shape of y to (n_samples, ), for example using ravel().\n",
      "  y = column_or_1d(y, warn=True)\n"
     ]
    },
    {
     "data": {
      "text/plain": [
       "BaggingClassifier(base_estimator=DecisionTreeClassifier(ccp_alpha=0.0,\n",
       "                                                        class_weight=None,\n",
       "                                                        criterion='gini',\n",
       "                                                        max_depth=None,\n",
       "                                                        max_features=None,\n",
       "                                                        max_leaf_nodes=None,\n",
       "                                                        min_impurity_decrease=0.0,\n",
       "                                                        min_impurity_split=None,\n",
       "                                                        min_samples_leaf=1,\n",
       "                                                        min_samples_split=2,\n",
       "                                                        min_weight_fraction_leaf=0.0,\n",
       "                                                        presort='deprecated',\n",
       "                                                        random_state=256,\n",
       "                                                        splitter='best'),\n",
       "                  bootstrap=True, bootstrap_features=False, max_features=1.0,\n",
       "                  max_samples=1.0, n_estimators=250, n_jobs=None,\n",
       "                  oob_score=False, random_state=256, verbose=0,\n",
       "                  warm_start=False)"
      ]
     },
     "execution_count": 9,
     "metadata": {
      "tags": []
     },
     "output_type": "execute_result"
    }
   ],
   "source": [
    "# 定義model\n",
    "from sklearn.tree import DecisionTreeClassifier\n",
    "from sklearn.ensemble import BaggingClassifier\n",
    "\n",
    "tree = DecisionTreeClassifier(random_state = 256)\n",
    "bagging = BaggingClassifier(base_estimator = tree, n_estimators = 250, bootstrap = True, max_features=1.0, max_samples=1.0, random_state=256)\n",
    "\n",
    "bagging.fit(train_data, train_label)"
   ]
  },
  {
   "cell_type": "code",
   "execution_count": null,
   "metadata": {
    "colab": {
     "base_uri": "https://localhost:8080/"
    },
    "id": "6zsKa0awlP7x",
    "outputId": "9b8aafb8-6c94-44ae-c156-c6b2d64cccb5"
   },
   "outputs": [
    {
     "name": "stdout",
     "output_type": "stream",
     "text": [
      "[1. 2. 1. 2. 3. 2. 1. 2. 1. 3. 2. 2. 3. 3. 3. 2. 2. 3. 1. 2.]\n"
     ]
    }
   ],
   "source": [
    "print(bagging.predict(test_data))"
   ]
  },
  {
   "cell_type": "code",
   "execution_count": null,
   "metadata": {
    "colab": {
     "base_uri": "https://localhost:8080/"
    },
    "id": "C5gTW2JrlsO3",
    "outputId": "ac16153c-fa97-4584-c3c5-4e7fe1176b7f"
   },
   "outputs": [
    {
     "name": "stdout",
     "output_type": "stream",
     "text": [
      "1.0\n"
     ]
    }
   ],
   "source": [
    "print(bagging.score(test_data, test_label))"
   ]
  }
 ],
 "metadata": {
  "accelerator": "GPU",
  "colab": {
   "collapsed_sections": [],
   "name": "2021-ml-wine-bagging.ipynb",
   "provenance": [],
   "toc_visible": true
  },
  "kernelspec": {
   "display_name": "Python 3",
   "language": "python",
   "name": "python3"
  },
  "language_info": {
   "codemirror_mode": {
    "name": "ipython",
    "version": 3
   },
   "file_extension": ".py",
   "mimetype": "text/x-python",
   "name": "python",
   "nbconvert_exporter": "python",
   "pygments_lexer": "ipython3",
   "version": "3.9.5"
  }
 },
 "nbformat": 4,
 "nbformat_minor": 1
}
